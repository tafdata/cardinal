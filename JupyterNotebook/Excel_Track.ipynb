{
 "cells": [
  {
   "cell_type": "markdown",
   "metadata": {},
   "source": [
    "# Excel_Track\n",
    "プログラム出力用のpython 関数&classを作成する"
   ]
  },
  {
   "cell_type": "code",
   "execution_count": 1,
   "metadata": {
    "collapsed": false
   },
   "outputs": [],
   "source": [
    "import numpy as np\n",
    "import openpyxl as px\n",
    "import pandas as pd\n",
    "from openpyxl.styles import Font\n",
    "from openpyxl.styles.colors import Color\n",
    "from openpyxl.styles import Alignment\n",
    "from openpyxl.styles import Border, Side\n",
    "\n",
    "c = Color(theme=1, tint=0.0)\n",
    "font = Font(\n",
    "    name='ＭＳ ゴシック',\n",
    "    charset=128,\n",
    "    family=3.0,\n",
    "    b=False,\n",
    "    i=False,\n",
    "    strike=None,\n",
    "    outline=None,\n",
    "    shadow=None,\n",
    "    condense=None,\n",
    "    color=c,\n",
    "    size=9,\n",
    ")\n",
    "al = Alignment(\n",
    "    shrinkToFit=None, textRotation=0, vertical='center', horizontal='center', indent=0.0, justifyLastLine=None, relativeIndent=0.0, wrapText=None, readingOrder=0.0\n",
    ")\n",
    "\n",
    "thin = Side(border_style=\"thin\", color=\"000000\")\n",
    "double = Side(border_style=\"double\", color=\"ff0000\")\n",
    "border_bottom = Border(top=None, left=None, right=None, bottom=thin)\n"
   ]
  },
  {
   "cell_type": "code",
   "execution_count": 2,
   "metadata": {
    "collapsed": false
   },
   "outputs": [
    {
     "name": "stdout",
     "output_type": "stream",
     "text": [
      "(34, 13)\n"
     ]
    },
    {
     "data": {
      "text/html": [
       "<div>\n",
       "<table border=\"1\" class=\"dataframe\">\n",
       "  <thead>\n",
       "    <tr style=\"text-align: right;\">\n",
       "      <th></th>\n",
       "      <th>section</th>\n",
       "      <th>sex</th>\n",
       "      <th>event</th>\n",
       "      <th>round</th>\n",
       "      <th>group</th>\n",
       "      <th>order_lane</th>\n",
       "      <th>bib</th>\n",
       "      <th>name</th>\n",
       "      <th>kana</th>\n",
       "      <th>grade</th>\n",
       "      <th>club</th>\n",
       "      <th>jaaf_branch</th>\n",
       "      <th>PB</th>\n",
       "    </tr>\n",
       "  </thead>\n",
       "  <tbody>\n",
       "    <tr>\n",
       "      <th>0</th>\n",
       "      <td>OP</td>\n",
       "      <td>男</td>\n",
       "      <td>100m</td>\n",
       "      <td>Final</td>\n",
       "      <td>1.0</td>\n",
       "      <td>2.0</td>\n",
       "      <td>1116</td>\n",
       "      <td>轡田　涼</td>\n",
       "      <td>クツワダ　リョウ</td>\n",
       "      <td>4</td>\n",
       "      <td>試験大</td>\n",
       "      <td>広島</td>\n",
       "      <td>11\"80</td>\n",
       "    </tr>\n",
       "    <tr>\n",
       "      <th>1</th>\n",
       "      <td>OP</td>\n",
       "      <td>男</td>\n",
       "      <td>100m</td>\n",
       "      <td>Final</td>\n",
       "      <td>1.0</td>\n",
       "      <td>2.0</td>\n",
       "      <td>1082</td>\n",
       "      <td>小西　玄起</td>\n",
       "      <td>コニシ　ゲンキ</td>\n",
       "      <td>2</td>\n",
       "      <td>試験大</td>\n",
       "      <td>兵庫</td>\n",
       "      <td>11\"20</td>\n",
       "    </tr>\n",
       "    <tr>\n",
       "      <th>2</th>\n",
       "      <td>OP</td>\n",
       "      <td>男</td>\n",
       "      <td>100m</td>\n",
       "      <td>Final</td>\n",
       "      <td>1.0</td>\n",
       "      <td>2.0</td>\n",
       "      <td>1094</td>\n",
       "      <td>藤原　雅志</td>\n",
       "      <td>フジワラ　マサシ</td>\n",
       "      <td>4</td>\n",
       "      <td>試験大</td>\n",
       "      <td>大阪</td>\n",
       "      <td>11\"31</td>\n",
       "    </tr>\n",
       "    <tr>\n",
       "      <th>3</th>\n",
       "      <td>OP</td>\n",
       "      <td>男</td>\n",
       "      <td>100m</td>\n",
       "      <td>Final</td>\n",
       "      <td>1.0</td>\n",
       "      <td>2.0</td>\n",
       "      <td>1088</td>\n",
       "      <td>上野　環太</td>\n",
       "      <td>ウエノ　カンタ</td>\n",
       "      <td>4</td>\n",
       "      <td>試験大</td>\n",
       "      <td>兵庫</td>\n",
       "      <td>11\"30</td>\n",
       "    </tr>\n",
       "    <tr>\n",
       "      <th>4</th>\n",
       "      <td>OP</td>\n",
       "      <td>男</td>\n",
       "      <td>100m</td>\n",
       "      <td>Final</td>\n",
       "      <td>1.0</td>\n",
       "      <td>2.0</td>\n",
       "      <td>1101</td>\n",
       "      <td>金丸　和嗣</td>\n",
       "      <td>カナマル　カズシ</td>\n",
       "      <td>3</td>\n",
       "      <td>試験大</td>\n",
       "      <td>兵庫</td>\n",
       "      <td>11\"45</td>\n",
       "    </tr>\n",
       "  </tbody>\n",
       "</table>\n",
       "</div>"
      ],
      "text/plain": [
       "  section sex event  round  group  order_lane   bib   name      kana  grade  \\\n",
       "0      OP   男  100m  Final    1.0         2.0  1116   轡田　涼  クツワダ　リョウ      4   \n",
       "1      OP   男  100m  Final    1.0         2.0  1082  小西　玄起   コニシ　ゲンキ      2   \n",
       "2      OP   男  100m  Final    1.0         2.0  1094  藤原　雅志  フジワラ　マサシ      4   \n",
       "3      OP   男  100m  Final    1.0         2.0  1088  上野　環太   ウエノ　カンタ      4   \n",
       "4      OP   男  100m  Final    1.0         2.0  1101  金丸　和嗣  カナマル　カズシ      3   \n",
       "\n",
       "  club jaaf_branch     PB  \n",
       "0  試験大          広島  11\"80  \n",
       "1  試験大          兵庫  11\"20  \n",
       "2  試験大          大阪  11\"31  \n",
       "3  試験大          兵庫  11\"30  \n",
       "4  試験大          兵庫  11\"45  "
      ]
     },
     "execution_count": 2,
     "metadata": {},
     "output_type": "execute_result"
    }
   ],
   "source": [
    "# File Path\n",
    "dir_template = \"../app/organizer/content/programs\"\n",
    "path_temp = dir_template+\"/template_track_1.xlsx\"\n",
    "dir_out = \"./output\"\n",
    "\n",
    "\n",
    "# データ読み込み&グループ番号の付与\n",
    "df = pd.read_csv(\"../demo_data/Cardinal_EntryFile/demo.csv\")\n",
    "group = 1\n",
    "lane = 2\n",
    "for i in range(0,20):\n",
    "    if lane == 8: \n",
    "        lane = int(2)\n",
    "        group += int(1)\n",
    "    df.ix[i,\"group\"] = group\n",
    "    df.ix[i,\"order_lane\"] = lane    \n",
    "print(df.shape)\n",
    "df.head()"
   ]
  },
  {
   "cell_type": "code",
   "execution_count": 3,
   "metadata": {
    "collapsed": false
   },
   "outputs": [
    {
     "name": "stdout",
     "output_type": "stream",
     "text": [
      "<__main__.GR object at 0x10eec4908> 阪大太郎\n"
     ]
    }
   ],
   "source": [
    "class GR:\n",
    "    def __init__(self, comp, event, mark, name, club, year):\n",
    "        self.como = comp\n",
    "        self.event = event\n",
    "        self.mark = mark\n",
    "        self.name = name\n",
    "        self.club = club\n",
    "        self.year = year\n",
    "        \n",
    "gr_100m = GR(\"名阪戦\", \"100m\", '11\"34', u'阪大太郎', '大阪大', '2017')\n",
    "print(gr_100m, gr_100m.name)"
   ]
  },
  {
   "cell_type": "code",
   "execution_count": 37,
   "metadata": {
    "collapsed": false
   },
   "outputs": [],
   "source": [
    "def style_track_sheet(ws, row):\n",
    "    # Params\n",
    "    # - ws: worksheet\n",
    "    # - row: The last row number of the page you edit (type=int)\n",
    "    # - col:  The last col number of the page you edit (type=int)\n",
    "    \n",
    "    #　行の高さの指定\n",
    "    for  i in range(0,row):\n",
    "        ws.row_dimensions[i].height = 13\n",
    "    #  列の幅の指定\n",
    "    col_width = [(\"A\", 4.0), (\"B\", 7.0), (\"C\", 11.0), (\"D\", 13.0), (\"E\", 7.0),  (\"F\", 11.0),(\"G\", 7.0), (\"H\", 8.0), (\"I\", 5.0), (\"J\", 9.0), (\"K\", 9.0)]\n",
    "    for t in col_width:\n",
    "        ws.column_dimensions[t[0]].width = t[1]"
   ]
  },
  {
   "cell_type": "code",
   "execution_count": 5,
   "metadata": {
    "collapsed": false
   },
   "outputs": [],
   "source": [
    "def cell_posi(row, col):\n",
    "    return col+str(row)"
   ]
  },
  {
   "cell_type": "code",
   "execution_count": 6,
   "metadata": {
    "collapsed": true
   },
   "outputs": [],
   "source": [
    "def write_cell(cell, value, font, al):\n",
    "    cell.value = value\n",
    "    cell.font = font\n",
    "    cell.alignment = al"
   ]
  },
  {
   "cell_type": "code",
   "execution_count": 7,
   "metadata": {
    "collapsed": false
   },
   "outputs": [],
   "source": [
    "def write_title(ws, gr):\n",
    "    # 種目名\n",
    "    ws.merge_cells(\"A1:C3\")\n",
    "    write_cell(ws['A1'], gr.event, font, al)\n",
    "    ws['A1'].font = Font(size=24)\n",
    "    ws['A1'].alignment =Alignment(vertical='center', horizontal='center')\n",
    "    # 大会記録\n",
    "    write_cell(ws['D2'], '大会記録', font, al)\n",
    "    write_cell(ws['E2'], gr.mark, font, al) #記録\n",
    "    write_cell(ws['F2'], gr.name, font, al) #氏名\n",
    "    write_cell(ws['G2'], gr.club, font, al)#所属\n",
    "    write_cell(ws['H2'], gr.year, font, al) #年"
   ]
  },
  {
   "cell_type": "code",
   "execution_count": 26,
   "metadata": {
    "collapsed": false
   },
   "outputs": [],
   "source": [
    "def write_track_head(ws, row, group=True, wind=True):\n",
    "    # 1行目\n",
    "    if group:\n",
    "        write_cell(ws.cell(row=row, column=1), str(group)+u\"組\", font, al)\n",
    "    if wind:\n",
    "        ws.merge_cells(start_row=row,start_column=9,end_row=row,end_column=11)\n",
    "        write_cell(ws.cell(row=row, column=9), u\"(風速＋･－　　　m/sec)\", font, al) # Merged\n",
    "    if group or  wind: # どちらかを書き込む場合は\n",
    "        row += 1\n",
    "        \n",
    "    # 2行目\n",
    "    write_cell(ws.cell(row=row, column=1), u\"ﾚｰﾝ\", font, al)\n",
    "    write_cell(ws.cell(row=row, column=2), u\"No.\", font, al)\n",
    "    print(cell_posi(row+1, \"C\")+\":\"+cell_posi(row+1,\"D\"))\n",
    "    ws.merge_cells(cell_posi(row, \"C\")+\":\"+cell_posi(row,\"D\"))\n",
    "    write_cell(ws.cell(row=row, column=3), u\"氏名\", font, al) # Merged\n",
    "    write_cell(ws.cell(row=row, column=5), u\"学年\", font, al)\n",
    "    write_cell(ws.cell(row=row, column=6), u\"所属\", font, al)\n",
    "    write_cell(ws.cell(row=row, column=7), u\"陸協\", font, al)\n",
    "    write_cell(ws.cell(row=row, column=8), u\"所属\", font, al)\n",
    "    write_cell(ws.cell(row=row, column=9), u\"順位\", font, al)\n",
    "    ws.merge_cells(cell_posi(row, \"J\")+\":\"+cell_posi(row,\"K\"))\n",
    "    write_cell(ws.cell(row=row, column=10), u\"記録\", font, al)\n",
    "    # 次の空白行の行番号を返す\n",
    "    return row+1"
   ]
  },
  {
   "cell_type": "code",
   "execution_count": 27,
   "metadata": {
    "collapsed": false
   },
   "outputs": [],
   "source": [
    "def write_track_row(ws, row, entry, lane):\n",
    "    write_cell(ws.cell(row=row, column=1), lane, font, al)\n",
    "    write_cell(ws.cell(row=row, column=2), entry[\"bib\"], font, al)\n",
    "    write_cell(ws.cell(row=row, column=3), entry[\"name\"], font, al)\n",
    "    write_cell(ws.cell(row=row, column=4), entry[\"kana\"], font, al)\n",
    "    write_cell(ws.cell(row=row, column=5), entry[\"grade\"], font, al)\n",
    "    write_cell(ws.cell(row=row, column=6), entry[\"club\"], font, al)\n",
    "    write_cell(ws.cell(row=row, column=7), entry[\"jaaf_branch\"], font, al)\n",
    "    write_cell(ws.cell(row=row, column=8), entry[\"PB\"], font, al)\n",
    "    # 記録欄\n",
    "    write_cell(ws.cell(row=row, column=9), \"(   )\", font, al)\n",
    "    ws.cell(row=row, column=9).border = border_bottom\n",
    "    ws.cell(row=row, column=10).border = border_bottom\n",
    "    ws.cell(row=row, column=11).border = border_bottom"
   ]
  },
  {
   "cell_type": "code",
   "execution_count": 28,
   "metadata": {
    "collapsed": false
   },
   "outputs": [],
   "source": [
    "def write_group_lane8(ws, row,  df, group=False, wind=True):\n",
    "    # Header\n",
    "    row = write_track_head(ws, row, group)\n",
    "    # エントリーの書き込み\n",
    "    for i in [0,1,2,3,4,5,6,7]:\n",
    "        print(row+i)\n",
    "        write_track_row(ws, row+i, df.ix[i,:].to_dict(), i+1)"
   ]
  },
  {
   "cell_type": "code",
   "execution_count": 29,
   "metadata": {
    "collapsed": false
   },
   "outputs": [],
   "source": [
    "# 長距離&補欠用\n",
    "def write_group_laneN(ws, row,  df, group=False, wind=True):\n",
    "    # Params\n",
    "    # - ws: worksheet\n",
    "    # - row: 書き込み開始行番号\n",
    "    # - df: dataFrame\n",
    "\n",
    "    # Header\n",
    "    row = write_track_head(ws, row, group=group, wind=wind)\n",
    "    # エントリーの書き込み\n",
    "    c = 0\n",
    "    for i in np.arange(0, len(df), 1):\n",
    "        print(\"laneN: \", i)\n",
    "        write_track_row(ws, row+i, df.ix[i,:].to_dict(), i+1)\n",
    "        c += 1\n",
    "    # Finish\n",
    "    print(\"> Write_group_laneN: write \", str(c), \" entries\")"
   ]
  },
  {
   "cell_type": "code",
   "execution_count": 35,
   "metadata": {
    "collapsed": false,
    "scrolled": false
   },
   "outputs": [
    {
     "name": "stdout",
     "output_type": "stream",
     "text": [
      "['男子100m']\n",
      "C7:D7\n",
      "7\n",
      "8\n",
      "9\n",
      "10\n",
      "11\n",
      "12\n",
      "13\n",
      "14\n",
      "C18:D18\n",
      "laneN:  0\n",
      "laneN:  1\n",
      "laneN:  2\n",
      "> Write_group_laneN: write  3  entries\n",
      "C25:D25\n",
      "25\n",
      "26\n",
      "27\n",
      "28\n",
      "29\n",
      "30\n",
      "31\n",
      "32\n",
      "C37:D37\n",
      "37\n",
      "38\n",
      "39\n",
      "40\n",
      "41\n",
      "42\n",
      "43\n",
      "44\n",
      "C49:D49\n",
      "49\n",
      "50\n",
      "51\n",
      "52\n",
      "53\n",
      "54\n",
      "55\n",
      "56\n"
     ]
    }
   ],
   "source": [
    "# Write !!\n",
    "# Open Excel file\n",
    "#wb = px.load_workbook(path_temp)\n",
    "wb = px.Workbook()\n",
    "ws = wb.active\n",
    "\n",
    "# シートの　作成\n",
    "#ws_source = wb.get_sheet_by_name('track_white')\n",
    "#ws = wb.copy_worksheet(ws_source)\n",
    "#ws = wb.create_sheet('男子100m', 0)\n",
    "ws.title = '男子100m'\n",
    "print(wb.get_sheet_names())\n",
    "write_head(ws, gr_100m)\n",
    "# 　対校\n",
    "ws.merge_cells(\"A5:C5\")\n",
    "write_cell(ws[\"A5\"], \"<対校の部>\", font, al)\n",
    "ws['A5'].alignment =Alignment(vertical='center', horizontal='left')\n",
    "write_group_lane8(ws, 5, df, False)\n",
    "# 補欠\n",
    "ws.merge_cells(\"A16:C16\")\n",
    "write_cell(ws[\"A16\"], \"< 補欠>\", font, al)\n",
    "ws['A16'].alignment =Alignment(vertical='center', horizontal='left')\n",
    "write_group_laneN(ws, 17, df[:3], False, False)\n",
    "# OP\n",
    "ws.merge_cells(\"A22:C22\")\n",
    "write_cell(ws[\"A22\"], \"<オープンの部>\", font, al)\n",
    "ws['A22'].alignment =Alignment(vertical='center', horizontal='left')\n",
    "write_group_lane8(ws, 23, df, 1)\n",
    "write_group_lane8(ws, 35, df, 2)\n",
    "write_group_lane8(ws, 47, df, 3)"
   ]
  },
  {
   "cell_type": "code",
   "execution_count": 36,
   "metadata": {
    "collapsed": false
   },
   "outputs": [],
   "source": [
    "# Save\n",
    "style_track_sheet(ws, 56)\n",
    "wb.save(dir_out+\"/test3.xlsx\")"
   ]
  },
  {
   "cell_type": "code",
   "execution_count": 21,
   "metadata": {
    "collapsed": false
   },
   "outputs": [
    {
     "data": {
      "text/plain": [
       "'順位'"
      ]
     },
     "execution_count": 21,
     "metadata": {},
     "output_type": "execute_result"
    }
   ],
   "source": [
    "ws[\"I16\"].value"
   ]
  },
  {
   "cell_type": "code",
   "execution_count": null,
   "metadata": {
    "collapsed": false
   },
   "outputs": [],
   "source": [
    "print(font)"
   ]
  },
  {
   "cell_type": "code",
   "execution_count": null,
   "metadata": {
    "collapsed": false
   },
   "outputs": [],
   "source": [
    "ws['A16'].font"
   ]
  },
  {
   "cell_type": "code",
   "execution_count": null,
   "metadata": {
    "collapsed": false
   },
   "outputs": [],
   "source": [
    "#ws['C8'].font = font\n",
    "ws['A5'].font"
   ]
  },
  {
   "cell_type": "code",
   "execution_count": null,
   "metadata": {
    "collapsed": false
   },
   "outputs": [],
   "source": [
    "print(ws['C5'].alignment)\n",
    "print(ws['C7'].alignment)"
   ]
  }
 ],
 "metadata": {
  "kernelspec": {
   "display_name": "Python 3",
   "language": "python",
   "name": "python3"
  },
  "language_info": {
   "codemirror_mode": {
    "name": "ipython",
    "version": 3
   },
   "file_extension": ".py",
   "mimetype": "text/x-python",
   "name": "python",
   "nbconvert_exporter": "python",
   "pygments_lexer": "ipython3",
   "version": "3.5.2"
  }
 },
 "nbformat": 4,
 "nbformat_minor": 2
}
