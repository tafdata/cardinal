{
 "cells": [
  {
   "cell_type": "markdown",
   "metadata": {},
   "source": [
    "# Excel_LJTJ\n",
    "プログラム出力用のpython 関数&classを作成する"
   ]
  },
  {
   "cell_type": "code",
   "execution_count": 2,
   "metadata": {
    "collapsed": false
   },
   "outputs": [],
   "source": [
    "import numpy as np\n",
    "import openpyxl as px\n",
    "import pandas as pd\n",
    "from openpyxl.styles import Font\n",
    "from openpyxl.styles.colors import Color\n",
    "from openpyxl.styles import Alignment\n",
    "from openpyxl.styles import Border, Side\n",
    "\n",
    "c = Color(theme=1, tint=0.0)\n",
    "font = Font(\n",
    "    name='ＭＳ ゴシック',\n",
    "    charset=128,\n",
    "    family=3.0,\n",
    "    b=False,\n",
    "    i=False,\n",
    "    strike=None,\n",
    "    outline=None,\n",
    "    shadow=None,\n",
    "    condense=None,\n",
    "    color=c,\n",
    "    size=9,\n",
    ")\n",
    "al = Alignment(\n",
    "    shrinkToFit=None, textRotation=0, vertical='center', horizontal='center', indent=0.0, justifyLastLine=None, relativeIndent=0.0, wrapText=None, readingOrder=0.0\n",
    ")\n",
    "\n",
    "thin = Side(border_style=\"thin\", color=\"000000\")\n",
    "double = Side(border_style=\"double\", color=\"ff0000\")\n",
    "#border_bottom = Border(top=None, left=None, right=None, bottom=thin)\n",
    "border_all = Border(top=thin, left=thin, right=thin, bottom=thin)\n",
    "border_default = Border(\n",
    "    left=Side(border_style=None, color='FF000000'),\n",
    "    right=Side(border_style=None, color='FF000000'),\n",
    "    top=Side(border_style=None, color='FF000000'),\n",
    "    bottom=Side(border_style=None, color='FF000000'),\n",
    "    diagonal=Side(border_style=None, color='FF000000'),\n",
    "    outline=Side(border_style=None, color='FF000000'),\n",
    "    vertical=Side(border_style=None, color='FF000000'),\n",
    "    horizontal=Side(border_style=None, color='FF000000')\n",
    ")"
   ]
  },
  {
   "cell_type": "code",
   "execution_count": 3,
   "metadata": {
    "collapsed": false
   },
   "outputs": [
    {
     "name": "stdout",
     "output_type": "stream",
     "text": [
      "<__main__.GR object at 0x10af9dba8> 阪大太郎\n",
      "(34, 13)\n"
     ]
    },
    {
     "data": {
      "text/html": [
       "<div>\n",
       "<table border=\"1\" class=\"dataframe\">\n",
       "  <thead>\n",
       "    <tr style=\"text-align: right;\">\n",
       "      <th></th>\n",
       "      <th>section</th>\n",
       "      <th>sex</th>\n",
       "      <th>event</th>\n",
       "      <th>round</th>\n",
       "      <th>group</th>\n",
       "      <th>order_lane</th>\n",
       "      <th>bib</th>\n",
       "      <th>name</th>\n",
       "      <th>kana</th>\n",
       "      <th>grade</th>\n",
       "      <th>club</th>\n",
       "      <th>jaaf_branch</th>\n",
       "      <th>PB</th>\n",
       "    </tr>\n",
       "  </thead>\n",
       "  <tbody>\n",
       "    <tr>\n",
       "      <th>0</th>\n",
       "      <td>OP</td>\n",
       "      <td>男</td>\n",
       "      <td>100m</td>\n",
       "      <td>Final</td>\n",
       "      <td>1.0</td>\n",
       "      <td>2.0</td>\n",
       "      <td>1116</td>\n",
       "      <td>轡田　涼</td>\n",
       "      <td>クツワダ　リョウ</td>\n",
       "      <td>4</td>\n",
       "      <td>試験大</td>\n",
       "      <td>広島</td>\n",
       "      <td>11\"80</td>\n",
       "    </tr>\n",
       "    <tr>\n",
       "      <th>1</th>\n",
       "      <td>OP</td>\n",
       "      <td>男</td>\n",
       "      <td>100m</td>\n",
       "      <td>Final</td>\n",
       "      <td>1.0</td>\n",
       "      <td>2.0</td>\n",
       "      <td>1082</td>\n",
       "      <td>小西　玄起</td>\n",
       "      <td>コニシ　ゲンキ</td>\n",
       "      <td>2</td>\n",
       "      <td>試験大</td>\n",
       "      <td>兵庫</td>\n",
       "      <td>11\"20</td>\n",
       "    </tr>\n",
       "    <tr>\n",
       "      <th>2</th>\n",
       "      <td>OP</td>\n",
       "      <td>男</td>\n",
       "      <td>100m</td>\n",
       "      <td>Final</td>\n",
       "      <td>1.0</td>\n",
       "      <td>2.0</td>\n",
       "      <td>1094</td>\n",
       "      <td>藤原　雅志</td>\n",
       "      <td>フジワラ　マサシ</td>\n",
       "      <td>4</td>\n",
       "      <td>試験大</td>\n",
       "      <td>大阪</td>\n",
       "      <td>11\"31</td>\n",
       "    </tr>\n",
       "    <tr>\n",
       "      <th>3</th>\n",
       "      <td>OP</td>\n",
       "      <td>男</td>\n",
       "      <td>100m</td>\n",
       "      <td>Final</td>\n",
       "      <td>1.0</td>\n",
       "      <td>2.0</td>\n",
       "      <td>1088</td>\n",
       "      <td>上野　環太</td>\n",
       "      <td>ウエノ　カンタ</td>\n",
       "      <td>4</td>\n",
       "      <td>試験大</td>\n",
       "      <td>兵庫</td>\n",
       "      <td>11\"30</td>\n",
       "    </tr>\n",
       "    <tr>\n",
       "      <th>4</th>\n",
       "      <td>OP</td>\n",
       "      <td>男</td>\n",
       "      <td>100m</td>\n",
       "      <td>Final</td>\n",
       "      <td>1.0</td>\n",
       "      <td>2.0</td>\n",
       "      <td>1101</td>\n",
       "      <td>金丸　和嗣</td>\n",
       "      <td>カナマル　カズシ</td>\n",
       "      <td>3</td>\n",
       "      <td>試験大</td>\n",
       "      <td>兵庫</td>\n",
       "      <td>11\"45</td>\n",
       "    </tr>\n",
       "  </tbody>\n",
       "</table>\n",
       "</div>"
      ],
      "text/plain": [
       "  section sex event  round  group  order_lane   bib   name      kana  grade  \\\n",
       "0      OP   男  100m  Final    1.0         2.0  1116   轡田　涼  クツワダ　リョウ      4   \n",
       "1      OP   男  100m  Final    1.0         2.0  1082  小西　玄起   コニシ　ゲンキ      2   \n",
       "2      OP   男  100m  Final    1.0         2.0  1094  藤原　雅志  フジワラ　マサシ      4   \n",
       "3      OP   男  100m  Final    1.0         2.0  1088  上野　環太   ウエノ　カンタ      4   \n",
       "4      OP   男  100m  Final    1.0         2.0  1101  金丸　和嗣  カナマル　カズシ      3   \n",
       "\n",
       "  club jaaf_branch     PB  \n",
       "0  試験大          広島  11\"80  \n",
       "1  試験大          兵庫  11\"20  \n",
       "2  試験大          大阪  11\"31  \n",
       "3  試験大          兵庫  11\"30  \n",
       "4  試験大          兵庫  11\"45  "
      ]
     },
     "execution_count": 3,
     "metadata": {},
     "output_type": "execute_result"
    }
   ],
   "source": [
    "# File Path\n",
    "dir_template = \"../app/organizer/content/programs\"\n",
    "path_temp = dir_template+\"/template_track_1.xlsx\"\n",
    "dir_out = \"./output\"\n",
    "\n",
    "# 大会記録\n",
    "class GR:\n",
    "    def __init__(self, comp, event, mark, name, club, year):\n",
    "        self.como = comp\n",
    "        self.event = event\n",
    "        self.mark = mark\n",
    "        self.name = name\n",
    "        self.club = club\n",
    "        self.year = year\n",
    "        \n",
    "gr_HJ = GR(\"名阪戦\", \"走高跳\", '2m34', u'阪大太郎', '大阪大', '2017')\n",
    "print(gr_HJ, gr_HJ.name)\n",
    "\n",
    "# データ読み込み&グループ番号の付与\n",
    "df = pd.read_csv(\"../demo_data/Cardinal_EntryFile/demo.csv\")\n",
    "group = 1\n",
    "lane = 2\n",
    "for i in range(0,20):\n",
    "    if lane == 8: \n",
    "        lane = int(2)\n",
    "        group += int(1)\n",
    "    df.ix[i,\"group\"] = group\n",
    "    df.ix[i,\"order_lane\"] = lane    \n",
    "print(df.shape)\n",
    "df.head()"
   ]
  },
  {
   "cell_type": "code",
   "execution_count": 4,
   "metadata": {
    "collapsed": false
   },
   "outputs": [
    {
     "data": {
      "text/plain": [
       "['F', 'G', 'H', 'I', 'J', 'K', 'L', 'M']"
      ]
     },
     "execution_count": 4,
     "metadata": {},
     "output_type": "execute_result"
    }
   ],
   "source": [
    "def style_LJTJ_sheet(ws, row):\n",
    "    # Params\n",
    "    # - ws: worksheet\n",
    "    # - row: The last row number of the page you edit (type=int)\n",
    "    # - col:  The last col number of the page you edit (type=int)\n",
    "    \n",
    "    #　行の高さの指定\n",
    "    for  i in range(0,row):\n",
    "        ws.row_dimensions[i].height = 13\n",
    "    #  列の幅の指定\n",
    "    # [E-AF] = 1pt\n",
    "    col_width = [(\"A\", 3.0), (\"B\", 6.0), (\"C\", 10.0), (\"D\", 10.5), (\"E\", 5.0),  (\"N\", 4.0)]\n",
    "    col_width_2 = 6.5\n",
    "    for t in col_width:\n",
    "        ws.column_dimensions[t[0]].width = t[1]\n",
    "    for t in [chr(i) for i in range(65+5,65+13)]: # F - M\n",
    "        ws.column_dimensions[t].width = col_width_2\n",
    "\n",
    "[chr(i) for i in range(65+5,65+13)]"
   ]
  },
  {
   "cell_type": "code",
   "execution_count": 5,
   "metadata": {
    "collapsed": false
   },
   "outputs": [],
   "source": [
    "def cell_posi(row, col):\n",
    "    return col+str(row)"
   ]
  },
  {
   "cell_type": "code",
   "execution_count": 6,
   "metadata": {
    "collapsed": false
   },
   "outputs": [],
   "source": [
    "def write_cell(cell, value, font=font, al=al, border=border_default):\n",
    "    cell.value = value\n",
    "    cell.font = font\n",
    "    cell.alignment = al\n",
    "    cell.border = border"
   ]
  },
  {
   "cell_type": "code",
   "execution_count": 7,
   "metadata": {
    "collapsed": false
   },
   "outputs": [],
   "source": [
    "def write_LJTJ_title(ws, gr):\n",
    "    # 種目名\n",
    "    ws.merge_cells(\"A1:C3\")\n",
    "    write_cell(ws['A1'], gr.event, font, al)\n",
    "    ws['A1'].font = Font(size=24)\n",
    "    ws['A1'].alignment =Alignment(vertical='center', horizontal='center')\n",
    "    # 大会記録\n",
    "    write_cell(ws['D2'], '大会記録')\n",
    "    write_cell(ws['E2'], gr.mark) #記録\n",
    "    ws.merge_cells(\"F2:G2\")\n",
    "    write_cell(ws['F2'], gr.name) #氏名\n",
    "    write_cell(ws['H2'], gr.club)#所属\n",
    "    write_cell(ws['I2'], gr.year) #年"
   ]
  },
  {
   "cell_type": "code",
   "execution_count": 8,
   "metadata": {
    "collapsed": false
   },
   "outputs": [],
   "source": [
    "def write_LJTJ_head(ws, row, trial=6):\n",
    "    al_wrap = Alignment(vertical='center', horizontal='center', wrapText=True)\n",
    "    # 試技順\n",
    "    ws.merge_cells(cell_posi(row, \"A\")+\":\"+cell_posi(row+1,\"A\"))\n",
    "    write_cell(ws.cell(row=row, column=1), u\"試順\", al=al_wrap)\n",
    "    # No, 学年\n",
    "    write_cell(ws.cell(row=row, column=2), u\"No.\")\n",
    "    write_cell(ws.cell(row=row+1, column=2), u\"学年\")\n",
    "    # 氏名, 所属, 陸協\n",
    "    ws.merge_cells(cell_posi(row, \"C\")+\":\"+cell_posi(row,\"D\"))\n",
    "    write_cell(ws.cell(row=row, column=3), u\"氏名\") # Merged\n",
    "    write_cell(ws.cell(row=row+1, column=3), u\"所属\")\n",
    "    write_cell(ws.cell(row=row+1, column=4), u\"陸協\")\n",
    "    # 参考記録\n",
    "    ws.merge_cells(cell_posi(row, \"E\")+\":\"+cell_posi(row+1,\"E\"))\n",
    "    write_cell(ws.cell(row=row, column=5), u\"参考\\n記録\", al=al_wrap)\n",
    "    # 試技&記録\n",
    "    if trial == 6:\n",
    "        cells = [\"1\", \"2\", \"3\",  u\"3回目\\nベスト\", \"4\",\"5\", \"6\",  u\"記録\"]\n",
    "    else:\n",
    "        cells = [\"1\", \"2\", \"3\", u\"記録\"]\n",
    "    for i in np.arange(6,6+len(cells),1):\n",
    "        print(i)\n",
    "        ws.merge_cells(start_row=row,start_column=i,end_row=row+1,end_column=i)\n",
    "        write_cell(ws.cell(row=row, column=i), cells[i-6], al=al_wrap)\n",
    "    # 順位\n",
    "    if trial == 6:\n",
    "        ws.merge_cells(cell_posi(row, \"N\")+\":\"+cell_posi(row+1,\"N\"))\n",
    "        write_cell(ws.cell(row=row, column=14), u\"順位\", al=al_wrap)\n",
    "    else:\n",
    "        ws.merge_cells(cell_posi(row, \"J\")+\":\"+cell_posi(row+1,\"J\"))\n",
    "        write_cell(ws.cell(row=row, column=10), u\"順位\", al=al_wrap)\n",
    "        \n",
    "    # Borderの設定\n",
    "    if trial == 6: cell_end = 14\n",
    "    else: cell_end = 10\n",
    "    for i in range(1,cell_end+1):\n",
    "        ws.cell(row=row, column=i).border = border_all\n",
    "        ws.cell(row=row+1, column=i).border = border_all   \n",
    "        \n",
    "    return row+2"
   ]
  },
  {
   "cell_type": "code",
   "execution_count": 9,
   "metadata": {
    "collapsed": false
   },
   "outputs": [],
   "source": [
    "def write_LJTJ_row(ws, row, entry, order, trial=6):\n",
    "    font_small = Font(name='ＭＳ ゴシック',charset=128,size=6,)\n",
    "    al_wrap = Alignment(vertical='center', horizontal='center', wrapText=True)\n",
    "    al_left = Alignment(vertical='center', horizontal='left')\n",
    "    # 試技順\n",
    "    ws.merge_cells(cell_posi(row, \"A\")+\":\"+cell_posi(row+1,\"A\"))\n",
    "    write_cell(ws.cell(row=row, column=1), order)\n",
    "    # No, 学年\n",
    "    write_cell(ws.cell(row=row, column=2), entry[\"bib\"])\n",
    "    write_cell(ws.cell(row=row+1, column=2), entry[\"grade\"])\n",
    "    # 氏名, 所属, 陸協\n",
    "    write_cell(ws.cell(row=row, column=3), entry[\"name\"])\n",
    "    write_cell(ws.cell(row=row, column=4), entry[\"kana\"])\n",
    "    write_cell(ws.cell(row=row+1, column=3), entry[\"club\"])\n",
    "    write_cell(ws.cell(row=row+1, column=4), entry[\"jaaf_branch\"])\n",
    "    # 参考記録\n",
    "    ws.merge_cells(cell_posi(row, \"E\")+\":\"+cell_posi(row+1,\"E\"))\n",
    "    write_cell(ws.cell(row=row, column=5), entry[\"PB\"])\n",
    "    # 試技&記録\n",
    "    if trial == 6: cell_end = 14\n",
    "    else: cell_end = 10\n",
    "    for i in np.arange(6,cell_end, 1):\n",
    "        write_cell(ws.cell(row=row, column=i), \"m\", font=font_small)\n",
    "        write_cell(ws.cell(row=row+1, column=i), \"＋･－\", font=font_small, al=al_left)        \n",
    "    # 順位\n",
    "    if trial == 6: ws.merge_cells(cell_posi(row, \"N\")+\":\"+cell_posi(row+1,\"N\"))\n",
    "    else: ws.merge_cells(cell_posi(row, \"J\")+\":\"+cell_posi(row+1,\"J\"))\n",
    "        \n",
    "    # Borderの設定\n",
    "    for i in range(1,cell_end+1):\n",
    "        ws.cell(row=row, column=i).border = border_all\n",
    "        ws.cell(row=row+1, column=i).border = border_all   \n",
    "        \n",
    "    return row + 2"
   ]
  },
  {
   "cell_type": "code",
   "execution_count": null,
   "metadata": {
    "collapsed": false
   },
   "outputs": [],
   "source": [
    "np.arange(6,14+1, 1)"
   ]
  },
  {
   "cell_type": "code",
   "execution_count": 10,
   "metadata": {
    "collapsed": false
   },
   "outputs": [],
   "source": [
    "def write_LJTJ(ws, row,  df, trial=6):\n",
    "    # Header\n",
    "    row = write_LJTJ_head(ws, row, trial=trial)\n",
    "    # エントリーの書き込み\n",
    "    for i in np.arange(0, len(df), 1):\n",
    "        print(row)\n",
    "        row = write_LJTJ_row(ws, row, df.ix[i,:].to_dict(), i+1, trial=trial)\n",
    "    return row"
   ]
  },
  {
   "cell_type": "code",
   "execution_count": null,
   "metadata": {
    "collapsed": false
   },
   "outputs": [],
   "source": [
    "# Save\n",
    "style_track_sheet(ws, 56)\n",
    "wb.save(dir_out+\"/test3.xlsx\")"
   ]
  },
  {
   "cell_type": "code",
   "execution_count": 11,
   "metadata": {
    "collapsed": false,
    "scrolled": false
   },
   "outputs": [
    {
     "name": "stdout",
     "output_type": "stream",
     "text": [
      "['男子走幅跳']\n",
      "6\n",
      "7\n",
      "8\n",
      "9\n",
      "10\n",
      "11\n",
      "12\n",
      "13\n",
      "8\n",
      "10\n",
      "12\n",
      "14\n",
      "16\n",
      "18\n",
      "20\n",
      "6\n",
      "7\n",
      "8\n",
      "9\n",
      "27\n",
      "29\n",
      "31\n",
      "33\n",
      "35\n",
      "37\n",
      "39\n",
      "41\n",
      "43\n",
      "45\n"
     ]
    }
   ],
   "source": [
    "# Open Excel file\n",
    "wb = px.Workbook()\n",
    "\n",
    "# シートの　作成\n",
    "ws = wb.active\n",
    "ws.title = '男子走幅跳'\n",
    "print(wb.get_sheet_names())\n",
    "\n",
    "# Head: 種目\n",
    "write_LJTJ_title(ws, gr_HJ)\n",
    "# 　対校\n",
    "ws.merge_cells(\"A5:C5\")\n",
    "write_cell(ws[\"A5\"], \"<対校の部>\", font, al)\n",
    "ws['A5'].alignment =Alignment(vertical='center', horizontal='left')\n",
    "#write_HJPV_head(ws, 6)\n",
    "row = write_LJTJ(ws, 6, df[:7], trial=6)\n",
    "\n",
    "# 　OP\n",
    "row += 2\n",
    "ws.merge_cells(start_row=row,start_column=1,end_row=row,end_column=3)\n",
    "write_cell(ws.cell(row=row, column=1), \"<オープンの部>\", font, al)\n",
    "ws.cell(row=row, column=1).alignment =Alignment(vertical='center', horizontal='left')\n",
    "#write_HJPV_head(ws, 6)\n",
    "row += 1\n",
    "row = write_LJTJ(ws, row, df[:10], trial=3)\n",
    "\n",
    "\n",
    "#　シートのスタイル\n",
    "style_LJTJ_sheet(ws, 56)\n",
    "# 保存\n",
    "wb.save(dir_out+\"/testLJTJ.xlsx\")"
   ]
  },
  {
   "cell_type": "code",
   "execution_count": null,
   "metadata": {
    "collapsed": false
   },
   "outputs": [],
   "source": [
    "ws[\"E6\"].value"
   ]
  },
  {
   "cell_type": "code",
   "execution_count": null,
   "metadata": {
    "collapsed": false
   },
   "outputs": [],
   "source": [
    "print(font)"
   ]
  },
  {
   "cell_type": "code",
   "execution_count": null,
   "metadata": {
    "collapsed": false
   },
   "outputs": [],
   "source": [
    "ws['A16'].font"
   ]
  },
  {
   "cell_type": "code",
   "execution_count": null,
   "metadata": {
    "collapsed": false
   },
   "outputs": [],
   "source": [
    "#ws['C8'].font = font\n",
    "ws['A5'].font"
   ]
  },
  {
   "cell_type": "code",
   "execution_count": null,
   "metadata": {
    "collapsed": false
   },
   "outputs": [],
   "source": [
    "print(ws['C5'].alignment)\n",
    "print(ws['C7'].alignment)"
   ]
  },
  {
   "cell_type": "code",
   "execution_count": null,
   "metadata": {
    "collapsed": false,
    "scrolled": false
   },
   "outputs": [],
   "source": [
    "# Write !!\n",
    "# Open Excel file\n",
    "#wb = px.load_workbook(path_temp)\n",
    "wb = px.Workbook()\n",
    "ws = wb.active\n",
    "\n",
    "# シートの　作成\n",
    "#ws_source = wb.get_sheet_by_name('track_white')\n",
    "#ws = wb.copy_worksheet(ws_source)\n",
    "#ws = wb.create_sheet('男子100m', 0)\n",
    "ws.title = '男子100m'\n",
    "print(wb.get_sheet_names())\n",
    "\n",
    "\n",
    "# 補欠\n",
    "ws.merge_cells(\"A16:C16\")\n",
    "write_cell(ws[\"A16\"], \"< 補欠>\", font, al)\n",
    "ws['A16'].alignment =Alignment(vertical='center', horizontal='left')\n",
    "write_group_laneN(ws, 17, df[:3], False, False)\n",
    "# OP\n",
    "ws.merge_cells(\"A22:C22\")\n",
    "write_cell(ws[\"A22\"], \"<オープンの部>\", font, al)\n",
    "ws['A22'].alignment =Alignment(vertical='center', horizontal='left')\n",
    "write_group_lane8(ws, 23, df, 1)\n",
    "write_group_lane8(ws, 35, df, 2)\n",
    "write_group_lane8(ws, 47, df, 3)"
   ]
  }
 ],
 "metadata": {
  "kernelspec": {
   "display_name": "Python 3",
   "language": "python",
   "name": "python3"
  },
  "language_info": {
   "codemirror_mode": {
    "name": "ipython",
    "version": 3
   },
   "file_extension": ".py",
   "mimetype": "text/x-python",
   "name": "python",
   "nbconvert_exporter": "python",
   "pygments_lexer": "ipython3",
   "version": "3.5.2"
  }
 },
 "nbformat": 4,
 "nbformat_minor": 2
}
