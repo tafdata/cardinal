{
 "cells": [
  {
   "cell_type": "code",
   "execution_count": 1,
   "metadata": {
    "collapsed": true
   },
   "outputs": [],
   "source": [
    "import re"
   ]
  },
  {
   "cell_type": "code",
   "execution_count": 12,
   "metadata": {
    "collapsed": true
   },
   "outputs": [],
   "source": [
    "test = [\"123456\", \"1234\", \"12'34\\\"56\", \"1'23\\\"45\",  \"12\\\"34\", \"1\\\"23\", \"1m23\", \"12m34\", \"1\\\"23\\\"45\", \"1\\\"234\\\"56\", \"1'234\\\"56\", \"3ｍ00\",\"3m00\"]"
   ]
  },
  {
   "cell_type": "code",
   "execution_count": 4,
   "metadata": {
    "collapsed": true
   },
   "outputs": [],
   "source": [
    "reg1 = re.compile(r\"[0-9]{6}\")"
   ]
  },
  {
   "cell_type": "code",
   "execution_count": 5,
   "metadata": {
    "collapsed": false
   },
   "outputs": [
    {
     "name": "stdout",
     "output_type": "stream",
     "text": [
      "123456 (0, 6)\n",
      "1234 None\n",
      "12'34\"56 None\n",
      "1'23\"45 None\n",
      "12\"34 None\n",
      "1\"23 None\n",
      "1m23 None\n",
      "12m34 None\n",
      "1\"23\"45 None\n",
      "1\"234\"56 None\n",
      "1'234\"56 None\n",
      "3m00 None\n"
     ]
    }
   ],
   "source": [
    "for s in test:\n",
    "    m1 = reg1.match(s)\n",
    "    if m1: print(s, m1.span())\n",
    "    else: print(s, m1) "
   ]
  },
  {
   "cell_type": "code",
   "execution_count": 6,
   "metadata": {
    "collapsed": false
   },
   "outputs": [],
   "source": [
    "reg2 = re.compile(r\"[0-9]{1,2}'[0-9]{2}\\\"[0-9]{2}\")"
   ]
  },
  {
   "cell_type": "code",
   "execution_count": 7,
   "metadata": {
    "collapsed": false
   },
   "outputs": [
    {
     "name": "stdout",
     "output_type": "stream",
     "text": [
      "123456 None\n",
      "1234 None\n",
      "12'34\"56 (0, 8)\n",
      "1'23\"45 (0, 7)\n",
      "12\"34 None\n",
      "1\"23 None\n",
      "1m23 None\n",
      "12m34 None\n",
      "1\"23\"45 None\n",
      "1\"234\"56 None\n",
      "1'234\"56 None\n",
      "3m00 None\n"
     ]
    }
   ],
   "source": [
    "for s in test:\n",
    "    m2 = reg2.match(s)\n",
    "    if m2: print(s, m2.span())\n",
    "    else: print(s, m2) "
   ]
  },
  {
   "cell_type": "code",
   "execution_count": 8,
   "metadata": {
    "collapsed": false
   },
   "outputs": [
    {
     "name": "stdout",
     "output_type": "stream",
     "text": [
      "123456 None\n",
      "1234 None\n",
      "12'34\"56 None\n",
      "1'23\"45 None\n",
      "12\"34 (0, 5)\n",
      "1\"23 (0, 4)\n",
      "1m23 None\n",
      "12m34 None\n",
      "1\"23\"45 None\n",
      "1\"234\"56 None\n",
      "1'234\"56 None\n",
      "3m00 None\n"
     ]
    }
   ],
   "source": [
    "reg3 = re.compile(r\"[0-9]{1,2}\\\"[0-9]{2}\")\n",
    "for s in test:\n",
    "    m3 = reg3.fullmatch(s)\n",
    "    if m3: print(s, m3.span())\n",
    "    else: print(s, m3) "
   ]
  },
  {
   "cell_type": "code",
   "execution_count": 9,
   "metadata": {
    "collapsed": false
   },
   "outputs": [
    {
     "name": "stdout",
     "output_type": "stream",
     "text": [
      "123456 None\n",
      "1234 None\n",
      "12'34\"56 None\n",
      "1'23\"45 None\n",
      "12\"34 None\n",
      "1\"23 None\n",
      "1m23 (0, 4)\n",
      "12m34 (0, 5)\n",
      "1\"23\"45 None\n",
      "1\"234\"56 None\n",
      "1'234\"56 None\n",
      "3m00 (0, 4)\n"
     ]
    }
   ],
   "source": [
    "reg4 = re.compile(r\"[0-9]{1,2}m[0-9]{2}\")\n",
    "for s in test:\n",
    "    m4 = reg4.match(s)\n",
    "    if m4: print(s, m4.span())\n",
    "    else: print(s, m4) "
   ]
  },
  {
   "cell_type": "code",
   "execution_count": 10,
   "metadata": {
    "collapsed": true
   },
   "outputs": [],
   "source": [
    "def clean_PB(PB):\n",
    "        # reg1: 6-num\n",
    "        m = reg1.fullmatch(PB)\n",
    "        if m and m.span() == (0,6): return PB\n",
    "        \n",
    "        # reg2: Readable 12'34\"56\n",
    "        m = reg2.fullmatch(PB)\n",
    "        if m:\n",
    "            if m.span() == (0,8): return PB[0:2]+PB[3:5]+PB[6:]\n",
    "            elif m.span() == (0,7): return \"0\"+PB[0]+PB[2:4]+PB[5:]\n",
    "        \n",
    "        # reg3: Readable 12\"34\n",
    "        m = reg3.fullmatch(PB)\n",
    "        if m:\n",
    "            if m.span() == (0,5): return \"00\"+PB[0:2]+PB[3:]\n",
    "            elif m.span() == (0,4): return \"000\"+PB[0:1]+PB[2:]\n",
    "\n",
    "        # reg4: Readable 12m34\n",
    "        m = reg4.fullmatch(PB)\n",
    "        if m:\n",
    "            if m.span() == (0,5): return \"00\"+PB[0:2]+PB[3:]\n",
    "            elif m.span() == (0,4): return \"000\"+PB[0:1]+PB[2:]"
   ]
  },
  {
   "cell_type": "code",
   "execution_count": 13,
   "metadata": {
    "collapsed": false
   },
   "outputs": [
    {
     "name": "stdout",
     "output_type": "stream",
     "text": [
      "123456 \t 123456\n",
      "None \t 1234\n",
      "123456 \t 12'34\"56\n",
      "012345 \t 1'23\"45\n",
      "001234 \t 12\"34\n",
      "000123 \t 1\"23\n",
      "000123 \t 1m23\n",
      "001234 \t 12m34\n",
      "None \t 1\"23\"45\n",
      "None \t 1\"234\"56\n",
      "None \t 1'234\"56\n",
      "None \t 3ｍ00\n",
      "000300 \t 3m00\n"
     ]
    }
   ],
   "source": [
    "for t in test:\n",
    "    print(clean_PB(t), \"\\t\", t)"
   ]
  },
  {
   "cell_type": "code",
   "execution_count": 14,
   "metadata": {
    "collapsed": false
   },
   "outputs": [
    {
     "data": {
      "text/plain": [
       "False"
      ]
     },
     "execution_count": 14,
     "metadata": {},
     "output_type": "execute_result"
    }
   ],
   "source": [
    "\"3ｍ00\" == \"3m00\""
   ]
  },
  {
   "cell_type": "code",
   "execution_count": 18,
   "metadata": {
    "collapsed": false
   },
   "outputs": [
    {
     "data": {
      "text/plain": [
       "True"
      ]
     },
     "execution_count": 18,
     "metadata": {},
     "output_type": "execute_result"
    }
   ],
   "source": [
    "\"3m00\" == \"3m00\""
   ]
  },
  {
   "cell_type": "code",
   "execution_count": null,
   "metadata": {
    "collapsed": true
   },
   "outputs": [],
   "source": []
  }
 ],
 "metadata": {
  "kernelspec": {
   "display_name": "Python 3",
   "language": "python",
   "name": "python3"
  },
  "language_info": {
   "codemirror_mode": {
    "name": "ipython",
    "version": 3
   },
   "file_extension": ".py",
   "mimetype": "text/x-python",
   "name": "python",
   "nbconvert_exporter": "python",
   "pygments_lexer": "ipython3",
   "version": "3.5.2"
  }
 },
 "nbformat": 4,
 "nbformat_minor": 2
}
